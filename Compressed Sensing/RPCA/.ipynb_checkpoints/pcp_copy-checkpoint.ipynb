{
 "cells": [
  {
   "cell_type": "code",
   "execution_count": 1,
   "metadata": {
    "collapsed": true
   },
   "outputs": [],
   "source": [
    "import math\n",
    "import numpy.linalg\n",
    "import numpy as np\n",
    "from PIL import Image\n",
    "import sys\n",
    "import glob\n",
    "import matplotlib.pyplot as plt"
   ]
  },
  {
   "cell_type": "code",
   "execution_count": 14,
   "metadata": {
    "collapsed": true
   },
   "outputs": [],
   "source": [
    "def robust_pca(M):\n",
    "    \"\"\" \n",
    "    Decompose a matrix into low rank and sparse components.\n",
    "    Computes the RPCA decomposition using Alternating Lagrangian Multipliers.\n",
    "    Returns L,S the low rank and sparse components respectively\n",
    "    \"\"\"\n",
    "    L = numpy.zeros(M.shape)\n",
    "    S = numpy.zeros(M.shape)\n",
    "    Y = numpy.zeros(M.shape)\n",
    "    print(M.shape)\n",
    "    mu = (M.shape[0] * M.shape[1]) / (4.0 * L1Norm(M))\n",
    "    lamb = max(M.shape) ** -0.5\n",
    "    while not converged(M,L,S):\n",
    "        L = svd_shrink(M - S - (mu**-1) * Y, mu ** (-1))\n",
    "        S = shrink(M - L + (mu**-1) * Y, lamb * (mu ** (-1)))\n",
    "        Y = Y + mu * (M - L - S)\n",
    "    return L,S\n",
    "    \n",
    "def svd_shrink(X, tau):\n",
    "    \"\"\"\n",
    "    Apply the shrinkage operator to the singular values obtained from the SVD of X.\n",
    "    The parameter tau is used as the scaling parameter to the shrink function.\n",
    "    Returns the matrix obtained by computing U * shrink(s) * V where \n",
    "        U are the left singular vectors of X\n",
    "        V are the right singular vectors of X\n",
    "        s are the singular values as a diagonal matrix\n",
    "    \"\"\"\n",
    "    U,s,V = numpy.linalg.svd(X, full_matrices=False)\n",
    "    return numpy.dot(U, numpy.dot(numpy.diag(shrink(s, tau)), V))\n",
    "    \n",
    "def shrink(X, tau):\n",
    "    \"\"\"\n",
    "    Apply the shrinkage operator the the elements of X.\n",
    "    Returns V such that V[i,j] = max(abs(X[i,j]) - tau,0).\n",
    "    \"\"\"\n",
    "    V = numpy.copy(X).reshape(X.size)\n",
    "    for i in range(V.size):\n",
    "        V[i] = math.copysign(max(abs(V[i]) - tau, 0), V[i])\n",
    "        if V[i] == -0:\n",
    "            V[i] = 0\n",
    "    return V.reshape(X.shape)\n",
    "            \n",
    "def frobeniusNorm(X):\n",
    "    \"\"\"\n",
    "    Evaluate the Frobenius norm of X\n",
    "    Returns sqrt(sum_i sum_j X[i,j] ^ 2)\n",
    "    \"\"\"\n",
    "    accum = 0\n",
    "    V = numpy.reshape(X, -1)\n",
    "    for tmp in V:\n",
    "        accum += tmp ** 2\n",
    "    return math.sqrt(accum)\n",
    "\n",
    "def L1Norm(X):\n",
    "    \"\"\"\n",
    "    Evaluate the L1 norm of X\n",
    "    Returns the max over the sum of each column of X\n",
    "    \"\"\"\n",
    "    return np.sum(np.sum(X,axis=0))\n",
    "\n",
    "def converged(M,L,S):\n",
    "    \"\"\"\n",
    "    A simple test of convergence based on accuracy of matrix reconstruction\n",
    "    from sparse and low rank parts\n",
    "    \"\"\"\n",
    "    error = frobeniusNorm(M - L - S) / frobeniusNorm(M)\n",
    "    print(\"error =\", error)\n",
    "    return error <= 10e-4"
   ]
  },
  {
   "cell_type": "code",
   "execution_count": 15,
   "metadata": {
    "collapsed": true
   },
   "outputs": [],
   "source": [
    "def bitmap_to_mat(bitmap_seq):\n",
    "    matrix = []\n",
    "    shape = None\n",
    "    for bitmap_file in bitmap_seq:\n",
    "        img = Image.open(bitmap_file).convert(\"L\")\n",
    "        if shape is None:\n",
    "            shape = img.size\n",
    "        assert img.size == shape\n",
    "        img = np.array(img.getdata())\n",
    "        matrix.append(img)\n",
    "    return np.array(matrix), shape[::-1]\n",
    "\n",
    "def do_plot(ax, img, shape):\n",
    "    ax.cla()\n",
    "    ax.imshow(img.reshape(shape), cmap=\"gray\", interpolation=\"nearest\")\n",
    "    ax.show()"
   ]
  },
  {
   "cell_type": "code",
   "execution_count": 16,
   "metadata": {
    "collapsed": true
   },
   "outputs": [],
   "source": [
    "mat, shape = bitmap_to_mat(glob.glob(\"data/*.bmp\"))"
   ]
  },
  {
   "cell_type": "code",
   "execution_count": 17,
   "metadata": {},
   "outputs": [
    {
     "data": {
      "text/plain": [
       "(340, 20800)"
      ]
     },
     "execution_count": 17,
     "metadata": {},
     "output_type": "execute_result"
    }
   ],
   "source": [
    "mat.shape"
   ]
  },
  {
   "cell_type": "code",
   "execution_count": 18,
   "metadata": {},
   "outputs": [
    {
     "data": {
      "text/plain": [
       "(130, 160)"
      ]
     },
     "execution_count": 18,
     "metadata": {},
     "output_type": "execute_result"
    }
   ],
   "source": [
    "shape"
   ]
  },
  {
   "cell_type": "code",
   "execution_count": null,
   "metadata": {},
   "outputs": [
    {
     "name": "stdout",
     "output_type": "stream",
     "text": [
      "(20800, 340)\n",
      "error = 1.0\n",
      "error = 0.011376838575365849\n"
     ]
    }
   ],
   "source": [
    "L, S = robust_pca(mat.T)"
   ]
  },
  {
   "cell_type": "code",
   "execution_count": 119,
   "metadata": {},
   "outputs": [
    {
     "data": {
      "text/plain": [
       "(20800, 340)"
      ]
     },
     "execution_count": 119,
     "metadata": {},
     "output_type": "execute_result"
    }
   ],
   "source": [
    "L.shape"
   ]
  },
  {
   "cell_type": "code",
   "execution_count": null,
   "metadata": {},
   "outputs": [],
   "source": [
    "do_plot(plt, L.T[100], shape)"
   ]
  },
  {
   "cell_type": "code",
   "execution_count": null,
   "metadata": {},
   "outputs": [],
   "source": [
    "do_plot(plt, mat[100], shape)"
   ]
  },
  {
   "cell_type": "code",
   "execution_count": null,
   "metadata": {},
   "outputs": [],
   "source": [
    "do_plot(plt, S.T[200], shape)"
   ]
  },
  {
   "cell_type": "code",
   "execution_count": 75,
   "metadata": {},
   "outputs": [
    {
     "data": {
      "text/plain": [
       "array([-1.35752265e-08, -7.03808299e-10,  6.14392088e-01,  6.14392088e-01,\n",
       "        1.65925873e+00,  1.82108316e+00,  3.59398491e+00,  6.39919293e+00,\n",
       "        7.39681011e+00,  4.46250873e+00,  2.41035234e+00,  9.18249968e-01,\n",
       "        9.18249968e-01,  9.18249968e-01,  7.54422018e-02, -6.25335982e-02,\n",
       "       -6.25335983e-02, -6.25335983e-02,  3.50542155e+00,  3.49704173e+00,\n",
       "        1.09814361e+00,  2.55232991e+00,  6.58440788e+00,  7.49308137e+00,\n",
       "        2.68430199e+00,  7.52724463e+00,  9.42283606e+00,  1.04442125e+01,\n",
       "        1.13541223e+01,  1.19044352e+01,  2.40116531e+01,  1.39723001e+02,\n",
       "        1.58822927e+02,  8.44037299e+01,  1.63362067e+01,  3.13912240e+01,\n",
       "        5.35366846e+00,  5.57120495e+00,  1.14916270e+01,  5.18016522e+01,\n",
       "        2.93334849e+01,  1.05440708e+01,  4.99905707e+00,  6.82770145e+00,\n",
       "        3.34916127e+01,  1.64660873e+01,  8.22811069e+01,  7.71462823e+01,\n",
       "        3.42869603e+01,  1.62926335e+01,  2.74745721e+01,  1.32296332e+01,\n",
       "        1.14319141e+01,  8.56698027e+00,  9.14242924e+00,  5.82974671e+00,\n",
       "        4.26538329e+00,  4.08055646e+00,  3.12212106e+00,  2.39794046e+00,\n",
       "        3.71722163e+00,  4.83888334e+00,  5.52356249e+00,  5.51271986e+00,\n",
       "        5.48475368e+00,  7.02591726e+00,  8.31519573e+00,  7.55440623e+00,\n",
       "        5.95309690e+00,  5.89833851e+00,  5.89755907e+00,  5.89755907e+00,\n",
       "        5.89755907e+00,  9.58590302e+00,  7.72004765e+00,  6.04886310e+00,\n",
       "        4.27276421e+00,  4.88098508e+00,  6.92841840e+00,  9.37796148e+00,\n",
       "        1.55510381e+01,  2.11768573e+01,  2.69544418e+01,  2.82341867e+01,\n",
       "        2.55258094e+01,  2.72436269e+01,  2.72397896e+01,  2.65226614e+01,\n",
       "        2.48995435e+01,  2.49801063e+01,  2.50692261e+01,  2.63930089e+01,\n",
       "        2.49600823e+01,  2.09414669e+01,  1.79582875e+01,  2.48183448e+01,\n",
       "        2.67658599e+01,  2.86005140e+01,  3.32670604e+01,  3.30642593e+01])"
      ]
     },
     "execution_count": 75,
     "metadata": {},
     "output_type": "execute_result"
    }
   ],
   "source": [
    "L[0][:100]"
   ]
  },
  {
   "cell_type": "code",
   "execution_count": 73,
   "metadata": {},
   "outputs": [
    {
     "data": {
      "text/plain": [
       "array([  0,   0,   0,   0,   1,   3,   5,   8,   9,   6,   4,   2,   2,\n",
       "         2,   1,   1,   1,   1,   5,   3,   0,   4,   8,   9,   4,   9,\n",
       "        11,  12,  13,  13,  23, 142, 161,  86,  15,  33,   4,   4,  13,\n",
       "        54,  28,  12,   4,   6,  35,  15,  84,  79,  36,  18,  29,  14,\n",
       "        13,  10,   8,   7,   5,   3,   2,   2,   4,   6,   4,   4,   4,\n",
       "         6,   7,   6,   4,   4,   4,   4,   4,  11,   9,   5,   5,   6,\n",
       "         8,  10,  17,  23,  29,  30,  27,  29,  29,  28,  26,  26,  26,\n",
       "        28,  24,  20,  19,  26,  28,  30,  32,  32])"
      ]
     },
     "execution_count": 73,
     "metadata": {},
     "output_type": "execute_result"
    }
   ],
   "source": [
    "mat[0][:100]"
   ]
  },
  {
   "cell_type": "code",
   "execution_count": 132,
   "metadata": {},
   "outputs": [
    {
     "data": {
      "text/plain": [
       "4.242640687119285"
      ]
     },
     "execution_count": 132,
     "metadata": {},
     "output_type": "execute_result"
    }
   ],
   "source": [
    "x = np.array([[1, 2], [-2, -3]])\n",
    "frobeniusNorm(x)"
   ]
  },
  {
   "cell_type": "code",
   "execution_count": 141,
   "metadata": {},
   "outputs": [
    {
     "data": {
      "text/plain": [
       "array([ 1,  2, -2, -3])"
      ]
     },
     "execution_count": 141,
     "metadata": {},
     "output_type": "execute_result"
    }
   ],
   "source": [
    "np.reshape(x, -1)"
   ]
  },
  {
   "cell_type": "code",
   "execution_count": 140,
   "metadata": {},
   "outputs": [
    {
     "data": {
      "text/plain": [
       "array([ 5, 13])"
      ]
     },
     "execution_count": 140,
     "metadata": {},
     "output_type": "execute_result"
    }
   ],
   "source": [
    "sumkkk"
   ]
  },
  {
   "cell_type": "code",
   "execution_count": null,
   "metadata": {
    "collapsed": true
   },
   "outputs": [],
   "source": []
  }
 ],
 "metadata": {
  "kernelspec": {
   "display_name": "Python 3",
   "language": "python",
   "name": "python3"
  },
  "language_info": {
   "codemirror_mode": {
    "name": "ipython",
    "version": 3
   },
   "file_extension": ".py",
   "mimetype": "text/x-python",
   "name": "python",
   "nbconvert_exporter": "python",
   "pygments_lexer": "ipython3",
   "version": "3.6.4"
  }
 },
 "nbformat": 4,
 "nbformat_minor": 2
}
