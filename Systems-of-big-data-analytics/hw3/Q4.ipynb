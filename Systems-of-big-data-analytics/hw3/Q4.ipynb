{
 "cells": [
  {
   "cell_type": "code",
   "execution_count": 1,
   "metadata": {
    "collapsed": true
   },
   "outputs": [],
   "source": [
    "import numpy as np\n",
    "import pandas as pd\n",
    "import matplotlib.pyplot as plt\n",
    "# Setup matplotlib to work inside the notebook using\n",
    "%matplotlib inline"
   ]
  },
  {
   "cell_type": "code",
   "execution_count": 3,
   "metadata": {},
   "outputs": [
    {
     "name": "stdout",
     "output_type": "stream",
     "text": [
      "<class 'pandas.core.frame.DataFrame'>\n",
      "RangeIndex: 77 entries, 0 to 76\n",
      "Data columns (total 4 columns):\n",
      "num_coauth                                     77 non-null int64\n",
      "journal_articles_publications                  77 non-null int64\n",
      "conference_and_workshop_papers_publications    77 non-null int64\n",
      "books_and_thesis_publications                  77 non-null int64\n",
      "dtypes: int64(4)\n",
      "memory usage: 2.5 KB\n"
     ]
    },
    {
     "data": {
      "text/html": [
       "<div>\n",
       "<style>\n",
       "    .dataframe thead tr:only-child th {\n",
       "        text-align: right;\n",
       "    }\n",
       "\n",
       "    .dataframe thead th {\n",
       "        text-align: left;\n",
       "    }\n",
       "\n",
       "    .dataframe tbody tr th {\n",
       "        vertical-align: top;\n",
       "    }\n",
       "</style>\n",
       "<table border=\"1\" class=\"dataframe\">\n",
       "  <thead>\n",
       "    <tr style=\"text-align: right;\">\n",
       "      <th></th>\n",
       "      <th>num_coauth</th>\n",
       "      <th>journal_articles_publications</th>\n",
       "      <th>conference_and_workshop_papers_publications</th>\n",
       "      <th>books_and_thesis_publications</th>\n",
       "    </tr>\n",
       "  </thead>\n",
       "  <tbody>\n",
       "    <tr>\n",
       "      <th>0</th>\n",
       "      <td>1</td>\n",
       "      <td>315429</td>\n",
       "      <td>241619</td>\n",
       "      <td>6972</td>\n",
       "    </tr>\n",
       "    <tr>\n",
       "      <th>1</th>\n",
       "      <td>2</td>\n",
       "      <td>428953</td>\n",
       "      <td>507670</td>\n",
       "      <td>2</td>\n",
       "    </tr>\n",
       "    <tr>\n",
       "      <th>2</th>\n",
       "      <td>3</td>\n",
       "      <td>327204</td>\n",
       "      <td>471600</td>\n",
       "      <td>0</td>\n",
       "    </tr>\n",
       "    <tr>\n",
       "      <th>3</th>\n",
       "      <td>4</td>\n",
       "      <td>176067</td>\n",
       "      <td>282276</td>\n",
       "      <td>0</td>\n",
       "    </tr>\n",
       "    <tr>\n",
       "      <th>4</th>\n",
       "      <td>5</td>\n",
       "      <td>77569</td>\n",
       "      <td>129421</td>\n",
       "      <td>0</td>\n",
       "    </tr>\n",
       "  </tbody>\n",
       "</table>\n",
       "</div>"
      ],
      "text/plain": [
       "   num_coauth  journal_articles_publications  \\\n",
       "0           1                         315429   \n",
       "1           2                         428953   \n",
       "2           3                         327204   \n",
       "3           4                         176067   \n",
       "4           5                          77569   \n",
       "\n",
       "   conference_and_workshop_papers_publications  books_and_thesis_publications  \n",
       "0                                       241619                           6972  \n",
       "1                                       507670                              2  \n",
       "2                                       471600                              0  \n",
       "3                                       282276                              0  \n",
       "4                                       129421                              0  "
      ]
     },
     "execution_count": 3,
     "metadata": {},
     "output_type": "execute_result"
    }
   ],
   "source": [
    "data = pd.read_csv('Q4.csv')\n",
    "data.info()\n",
    "data.head()"
   ]
  },
  {
   "cell_type": "code",
   "execution_count": 6,
   "metadata": {},
   "outputs": [
    {
     "data": {
      "image/png": "[encoded data removed]",
      "text/plain": [
       "<matplotlib.figure.Figure at 0x112225128>"
      ]
     },
     "metadata": {},
     "output_type": "display_data"
    }
   ],
   "source": [
    "# Set the figure size.\n",
    "fig, ax = plt.subplots(figsize=(14, 6))\n",
    "\n",
    "# Make a bar plot per publication type.\n",
    "# https://matplotlib.org/api/_as_gen/matplotlib.axes.Axes.bar.html\n",
    "p1 = ax.bar(data['num_coauth'], data['journal_articles_publications'])\n",
    "p2 = ax.bar(data['num_coauth'], data['conference_and_workshop_papers_publications'], bottom=data['journal_articles_publications'])\n",
    "p3 = ax.bar(data['num_coauth'], data['books_and_thesis_publications'], bottom=data['journal_articles_publications'] + data['conference_and_workshop_papers_publications'])\n",
    "\n",
    "# Set the label for the xaxis.\n",
    "ax.set_xlabel('The number of co-authors')\n",
    "# Set the label for the yaxis.\n",
    "ax.set_ylabel('The number of papers')\n",
    "ax.set_title('The number of papers by the number of co-authors')\n",
    "# Places a legend on the axes.\n",
    "ax.legend((p1, p2, p3), ('Journal Articles', 'Conference and Workshop Papers', 'Books and Thesis'))\n",
    "# Turn the axes grids on or off.\n",
    "ax.set_yscale('log', nonposy='clip')\n",
    "ax.grid(axis='x', b=False)\n",
    "ax.plot();"
   ]
  },
  {
   "cell_type": "code",
   "execution_count": null,
   "metadata": {
    "collapsed": true
   },
   "outputs": [],
   "source": []
  }
 ],
 "metadata": {
  "kernelspec": {
   "display_name": "Python 3",
   "language": "python",
   "name": "python3"
  },
  "language_info": {
   "codemirror_mode": {
    "name": "ipython",
    "version": 3
   },
   "file_extension": ".py",
   "mimetype": "text/x-python",
   "name": "python",
   "nbconvert_exporter": "python",
   "pygments_lexer": "ipython3",
   "version": "3.6.3"
  }
 },
 "nbformat": 4,
 "nbformat_minor": 2
}
